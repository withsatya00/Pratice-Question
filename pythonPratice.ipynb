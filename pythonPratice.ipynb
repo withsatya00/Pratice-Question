{
 "cells": [
  {
   "cell_type": "code",
   "execution_count": null,
   "metadata": {},
   "outputs": [],
   "source": [
    "#square root\n",
    "n=64\n",
    "s=n**0.5\n",
    "print(s)"
   ]
  },
  {
   "cell_type": "code",
   "execution_count": 3,
   "metadata": {},
   "outputs": [
    {
     "name": "stdout",
     "output_type": "stream",
     "text": [
      "34.375\n"
     ]
    }
   ],
   "source": [
    "#area of triangle\n",
    "base=5.5\n",
    "height=12.5\n",
    "area=base*height*0.5\n",
    "print(area)"
   ]
  },
  {
   "cell_type": "code",
   "execution_count": null,
   "metadata": {},
   "outputs": [
    {
     "name": "stdout",
     "output_type": "stream",
     "text": [
      "7 5\n"
     ]
    }
   ],
   "source": [
    "#swap two number\n",
    "a,b=5,7\n",
    "a,b=b,a\n",
    "print(a,b)\n"
   ]
  },
  {
   "cell_type": "code",
   "execution_count": null,
   "metadata": {},
   "outputs": [],
   "source": [
    "\n",
    "#sawp two number without using 3rd variable\n",
    "a=int(input(\"Enter the number\"))\n",
    "b=int(input(\"Enter the 2nd number\"))\n",
    "a=a+b\n",
    "b=a-b\n",
    "a=a-b\n",
    "print(a,b)"
   ]
  },
  {
   "cell_type": "code",
   "execution_count": null,
   "metadata": {},
   "outputs": [
    {
     "name": "stdout",
     "output_type": "stream",
     "text": [
      "3.105\n"
     ]
    }
   ],
   "source": [
    "#to convert km into miles\n",
    "km=float(input(\"Enter the kilo meter\"))\n",
    "miles=0.621*km\n",
    "print(miles)"
   ]
  },
  {
   "cell_type": "code",
   "execution_count": null,
   "metadata": {},
   "outputs": [
    {
     "name": "stdout",
     "output_type": "stream",
     "text": [
      "Number is negative\n"
     ]
    }
   ],
   "source": [
    "#to check number is positive or not\n",
    "n=int(input(\"enter the number\"))\n",
    "if n>0:\n",
    "    print(\"Number is positive\")\n",
    "elif n==0:\n",
    "    print(\"Number is equal to zero\")\n",
    "else:\n",
    "    print(\"Number is negative\")"
   ]
  },
  {
   "cell_type": "code",
   "execution_count": null,
   "metadata": {},
   "outputs": [
    {
     "name": "stdout",
     "output_type": "stream",
     "text": [
      "Number is even\n"
     ]
    }
   ],
   "source": [
    "#to check number is odd or not\n",
    "n=int(input(\"Enter the number\"))\n",
    "if n&1:\n",
    "    print(\"Number is odd\")\n",
    "else:\n",
    "    print(\"Number is even\")"
   ]
  },
  {
   "cell_type": "code",
   "execution_count": null,
   "metadata": {},
   "outputs": [
    {
     "name": "stdout",
     "output_type": "stream",
     "text": [
      "year is leap\n"
     ]
    }
   ],
   "source": [
    "#year is leap or not\n",
    "year=int(input(\"Enter the year\"))\n",
    "if year%400==0 and year%100==0:\n",
    "    print(\"Leap year\")\n",
    "elif year%4==0 and year%100 != 0:\n",
    "    print(\"year is leap\")\n",
    "else:\n",
    "    print(\"Year is not leap\")\n",
    "    \n",
    "    "
   ]
  },
  {
   "cell_type": "code",
   "execution_count": 2,
   "metadata": {},
   "outputs": [
    {
     "name": "stdout",
     "output_type": "stream",
     "text": [
      "90 is greater\n"
     ]
    }
   ],
   "source": [
    "#largest among three number\n",
    "n1=int(input(\"Enter the first number\"))\n",
    "n2=int(input(\"Enter the 2nd number\"))\n",
    "n3=int(input(\"Enetr the 3rd number\"))\n",
    "if n1>n2 and n1>n3:\n",
    "    print(f\"{n1} is greater\")\n",
    "elif n2>n3 and n2 >n1:\n",
    "    print(f\"{n2} is greater\")\n",
    "else:\n",
    "    print(f\"{n3} is greater\")"
   ]
  },
  {
   "cell_type": "code",
   "execution_count": 2,
   "metadata": {},
   "outputs": [
    {
     "name": "stdout",
     "output_type": "stream",
     "text": [
      "43\n"
     ]
    }
   ],
   "source": [
    "#generate random number\n",
    "import random\n",
    "n=random.randint(1,100)\n",
    "print(n)"
   ]
  },
  {
   "cell_type": "code",
   "execution_count": null,
   "metadata": {},
   "outputs": [],
   "source": [
    "#all prime number in an interval\n",
    "l=int(input(\"Enter the lower number\"))\n",
    "u=int(input(\"Enter the upper number\"))\n",
    "for num in range(l,u+1):\n",
    "    if num >1 :\n",
    "        for i in range(2,num):\n",
    "            if num%i==0:\n",
    "                break\n",
    "        else:\n",
    "         print(num)"
   ]
  },
  {
   "cell_type": "code",
   "execution_count": 15,
   "metadata": {},
   "outputs": [
    {
     "name": "stdout",
     "output_type": "stream",
     "text": [
      "32.0\n"
     ]
    }
   ],
   "source": [
    "#celcius to fahrenheit\n",
    "celcius=float(input(\"Enetr the number\"))\n",
    "farenheit=(celcius*1.8)+32\n",
    "print(farenheit)"
   ]
  },
  {
   "cell_type": "code",
   "execution_count": 30,
   "metadata": {},
   "outputs": [
    {
     "name": "stdout",
     "output_type": "stream",
     "text": [
      "24\n"
     ]
    }
   ],
   "source": [
    "#factorial using recursion\n",
    "def fact(num):\n",
    "    if num==0:\n",
    "        return 1\n",
    "    else:\n",
    "        return num*fact(num-1)\n",
    "n=int(input(\"Enter the number\"))\n",
    "result=fact(n)\n",
    "print(result)\n"
   ]
  },
  {
   "cell_type": "code",
   "execution_count": null,
   "metadata": {},
   "outputs": [
    {
     "name": "stdout",
     "output_type": "stream",
     "text": [
      "120\n"
     ]
    }
   ],
   "source": [
    "#factorial\n",
    "num=int(input(\"Enter the number\"))\n",
    "factorial=1\n",
    "if num <0:\n",
    "    print(\"factorialof 0 is not possible\")\n",
    "if num >1:\n",
    "    for i in range(1,num+1):\n",
    "        factorial=factorial*i\n",
    "print(factorial)   "
   ]
  }
 ],
 "metadata": {
  "kernelspec": {
   "display_name": "Python 3",
   "language": "python",
   "name": "python3"
  },
  "language_info": {
   "codemirror_mode": {
    "name": "ipython",
    "version": 3
   },
   "file_extension": ".py",
   "mimetype": "text/x-python",
   "name": "python",
   "nbconvert_exporter": "python",
   "pygments_lexer": "ipython3",
   "version": "3.12.3"
  }
 },
 "nbformat": 4,
 "nbformat_minor": 2
}
